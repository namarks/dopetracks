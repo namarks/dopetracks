{
 "cells": [
  {
   "cell_type": "markdown",
   "metadata": {},
   "source": [
    "# Setup"
   ]
  },
  {
   "cell_type": "code",
   "execution_count": 131,
   "metadata": {},
   "outputs": [],
   "source": [
    "import sqlite3\n",
    "import pandas as pd\n",
    "from bpylist2 import archiver\n",
    "\n",
    "\n",
    "db_path = \"/Users/nmarks/Library/Messages/chat.db\"  # Adjust path as needed\n",
    "conn = sqlite3.connect(db_path)\n"
   ]
  },
  {
   "cell_type": "code",
   "execution_count": null,
   "metadata": {},
   "outputs": [],
   "source": [
    "# Explore database"
   ]
  },
  {
   "cell_type": "code",
   "execution_count": 174,
   "metadata": {},
   "outputs": [
    {
     "data": {
      "text/html": [
       "<div>\n",
       "<style scoped>\n",
       "    .dataframe tbody tr th:only-of-type {\n",
       "        vertical-align: middle;\n",
       "    }\n",
       "\n",
       "    .dataframe tbody tr th {\n",
       "        vertical-align: top;\n",
       "    }\n",
       "\n",
       "    .dataframe thead th {\n",
       "        text-align: right;\n",
       "    }\n",
       "</style>\n",
       "<table border=\"1\" class=\"dataframe\">\n",
       "  <thead>\n",
       "    <tr style=\"text-align: right;\">\n",
       "      <th></th>\n",
       "      <th>attributedBody</th>\n",
       "      <th>date</th>\n",
       "    </tr>\n",
       "  </thead>\n",
       "  <tbody>\n",
       "    <tr>\n",
       "      <th>0</th>\n",
       "      <td>b'\\x04\\x0bstreamtyped\\x81\\xe8\\x03\\x84\\x01@\\x84...</td>\n",
       "      <td>755585423510597888</td>\n",
       "    </tr>\n",
       "    <tr>\n",
       "      <th>1</th>\n",
       "      <td>b'\\x04\\x0bstreamtyped\\x81\\xe8\\x03\\x84\\x01@\\x84...</td>\n",
       "      <td>755585407655865984</td>\n",
       "    </tr>\n",
       "    <tr>\n",
       "      <th>2</th>\n",
       "      <td>b'\\x04\\x0bstreamtyped\\x81\\xe8\\x03\\x84\\x01@\\x84...</td>\n",
       "      <td>755585329306759040</td>\n",
       "    </tr>\n",
       "    <tr>\n",
       "      <th>3</th>\n",
       "      <td>b'\\x04\\x0bstreamtyped\\x81\\xe8\\x03\\x84\\x01@\\x84...</td>\n",
       "      <td>755585324462877056</td>\n",
       "    </tr>\n",
       "    <tr>\n",
       "      <th>4</th>\n",
       "      <td>b'\\x04\\x0bstreamtyped\\x81\\xe8\\x03\\x84\\x01@\\x84...</td>\n",
       "      <td>755585322251561984</td>\n",
       "    </tr>\n",
       "    <tr>\n",
       "      <th>5</th>\n",
       "      <td>b'\\x04\\x0bstreamtyped\\x81\\xe8\\x03\\x84\\x01@\\x84...</td>\n",
       "      <td>755585313377912064</td>\n",
       "    </tr>\n",
       "    <tr>\n",
       "      <th>6</th>\n",
       "      <td>b\"\\x04\\x0bstreamtyped\\x81\\xe8\\x03\\x84\\x01@\\x84...</td>\n",
       "      <td>755585284031696000</td>\n",
       "    </tr>\n",
       "    <tr>\n",
       "      <th>7</th>\n",
       "      <td>b'\\x04\\x0bstreamtyped\\x81\\xe8\\x03\\x84\\x01@\\x84...</td>\n",
       "      <td>755583380004000000</td>\n",
       "    </tr>\n",
       "    <tr>\n",
       "      <th>8</th>\n",
       "      <td>b'\\x04\\x0bstreamtyped\\x81\\xe8\\x03\\x84\\x01@\\x84...</td>\n",
       "      <td>755579169236292096</td>\n",
       "    </tr>\n",
       "    <tr>\n",
       "      <th>9</th>\n",
       "      <td>b'\\x04\\x0bstreamtyped\\x81\\xe8\\x03\\x84\\x01@\\x84...</td>\n",
       "      <td>755578546327511808</td>\n",
       "    </tr>\n",
       "  </tbody>\n",
       "</table>\n",
       "</div>"
      ],
      "text/plain": [
       "                                      attributedBody                date\n",
       "0  b'\\x04\\x0bstreamtyped\\x81\\xe8\\x03\\x84\\x01@\\x84...  755585423510597888\n",
       "1  b'\\x04\\x0bstreamtyped\\x81\\xe8\\x03\\x84\\x01@\\x84...  755585407655865984\n",
       "2  b'\\x04\\x0bstreamtyped\\x81\\xe8\\x03\\x84\\x01@\\x84...  755585329306759040\n",
       "3  b'\\x04\\x0bstreamtyped\\x81\\xe8\\x03\\x84\\x01@\\x84...  755585324462877056\n",
       "4  b'\\x04\\x0bstreamtyped\\x81\\xe8\\x03\\x84\\x01@\\x84...  755585322251561984\n",
       "5  b'\\x04\\x0bstreamtyped\\x81\\xe8\\x03\\x84\\x01@\\x84...  755585313377912064\n",
       "6  b\"\\x04\\x0bstreamtyped\\x81\\xe8\\x03\\x84\\x01@\\x84...  755585284031696000\n",
       "7  b'\\x04\\x0bstreamtyped\\x81\\xe8\\x03\\x84\\x01@\\x84...  755583380004000000\n",
       "8  b'\\x04\\x0bstreamtyped\\x81\\xe8\\x03\\x84\\x01@\\x84...  755579169236292096\n",
       "9  b'\\x04\\x0bstreamtyped\\x81\\xe8\\x03\\x84\\x01@\\x84...  755578546327511808"
      ]
     },
     "execution_count": 174,
     "metadata": {},
     "output_type": "execute_result"
    }
   ],
   "source": [
    "query = \"\"\"\n",
    "SELECT attributedBody, date\n",
    "FROM message\n",
    "ORDER BY date desc\n",
    "LIMIT 10;\n",
    "\"\"\"\n",
    "cur = conn.execute(query)\n",
    "rows = cur.fetchall()\n",
    "columns = [desc[0] for desc in cur.description]\n",
    "# Create a DataFrame with the fetched rows and column names\n",
    "df = pd.DataFrame(rows, columns=columns)\n",
    "\n",
    "df"
   ]
  },
  {
   "cell_type": "code",
   "execution_count": null,
   "metadata": {},
   "outputs": [],
   "source": [
    "import typedstream\n",
    "\n",
    "def unarchive_string(data):\n",
    "    # data is expected to be a bytes object\n",
    "    # unarchive_from_data returns a typedstream object, which hopefully has a `.value` attribute\n",
    "    raw_data = row(data)\n",
    "    result = typedstream.unarchive_from_data(raw_data)\n",
    "    return result.value\n",
    "\n",
    "# Now apply this function to the column\n",
    "df['decoded_value'] = df['attributedBody'].apply(unarchive_string)\n"
   ]
  },
  {
   "cell_type": "code",
   "execution_count": 136,
   "metadata": {},
   "outputs": [],
   "source": [
    "df['processed_body'] = df.apply(extract_content_from_binary, axis=1)\n"
   ]
  },
  {
   "cell_type": "code",
   "execution_count": 141,
   "metadata": {},
   "outputs": [],
   "source": [
    "# pd.set_option('display.max_columns', None)  # Show all columns\n",
    "# pd.set_option('display.max_colwidth', None)  # Adjust column width for visibility\n",
    "\n",
    "\n",
    "pd.reset_option('display.max_columns')  # Reset to default for max columns\n",
    "pd.reset_option('display.max_colwidth')  # Reset to default for column width\n",
    "\n"
   ]
  },
  {
   "cell_type": "code",
   "execution_count": 143,
   "metadata": {},
   "outputs": [
    {
     "data": {
      "text/plain": [
       "b'\\x04\\x0bstreamtyped\\x81\\xe8\\x03\\x84\\x01@\\x84\\x84\\x84\\x19NSMutableAttributedString\\x00\\x84\\x84\\x12NSAttributedString\\x00\\x84\\x84\\x08NSObject\\x00\\x85\\x92\\x84\\x84\\x84\\x0fNSMutableString\\x01\\x84\\x84\\x08NSString\\x01\\x95\\x84\\x01+\\x11Want to ask them?\\x86\\x84\\x02iI\\x01\\x11\\x92\\x84\\x84\\x84\\x0cNSDictionary\\x00\\x95\\x84\\x01i\\x01\\x92\\x84\\x98\\x98\\x1d__kIMMessagePartAttributeName\\x86\\x92\\x84\\x84\\x84\\x08NSNumber\\x00\\x84\\x84\\x07NSValue\\x00\\x95\\x84\\x01*\\x84\\x9b\\x9b\\x00\\x86\\x86\\x86'"
      ]
     },
     "execution_count": 156,
     "metadata": {},
     "output_type": "execute_result"
    }
   ],
   "source": [
    "df['attributedBody'][2]"
   ]
  },
  {
   "cell_type": "code",
   "execution_count": null,
   "metadata": {},
   "outputs": [],
   "source": []
  }
 ],
 "metadata": {
  "kernelspec": {
   "display_name": "dopetracks_summary_env",
   "language": "python",
   "name": "python3"
  },
  "language_info": {
   "codemirror_mode": {
    "name": "ipython",
    "version": 3
   },
   "file_extension": ".py",
   "mimetype": "text/x-python",
   "name": "python",
   "nbconvert_exporter": "python",
   "pygments_lexer": "ipython3",
   "version": "3.13.1"
  }
 },
 "nbformat": 4,
 "nbformat_minor": 2
}
